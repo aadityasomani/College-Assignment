{
  "nbformat": 4,
  "nbformat_minor": 0,
  "metadata": {
    "colab": {
      "name": " Lesson 64 - Abstract data types - Linked lists - Aditya",
      "provenance": [],
      "collapsed_sections": [],
      "include_colab_link": true
    },
    "kernelspec": {
      "name": "python3",
      "display_name": "Python 3"
    },
    "language_info": {
      "name": "python"
    }
  },
  "cells": [
    {
      "cell_type": "markdown",
      "metadata": {
        "id": "view-in-github",
        "colab_type": "text"
      },
      "source": [
        "<a href=\"https://colab.research.google.com/github/aadityasomani/College-Assignment/blob/main/Lesson_64_Abstract_data_types_Linked_lists_Aditya.ipynb\" target=\"_parent\"><img src=\"https://colab.research.google.com/assets/colab-badge.svg\" alt=\"Open In Colab\"/></a>"
      ]
    },
    {
      "cell_type": "markdown",
      "metadata": {
        "id": "ebrH7aTi1NEW"
      },
      "source": [
        "# Lesson 64: Abstract Data Types - Linked Lists"
      ]
    },
    {
      "cell_type": "markdown",
      "metadata": {
        "id": "bUt68K4HgsiG"
      },
      "source": [
        "---"
      ]
    },
    {
      "cell_type": "markdown",
      "metadata": {
        "id": "NVIsUpiLIsiV"
      },
      "source": [
        "### Teacher-Student Tasks\n",
        "\n",
        "\n",
        "\n",
        "In this lesson, we will have a rough understanding of data structures and explore the concept of the linked list. "
      ]
    },
    {
      "cell_type": "markdown",
      "metadata": {
        "id": "tSHFOyFvItSz"
      },
      "source": [
        "---"
      ]
    },
    {
      "cell_type": "markdown",
      "metadata": {
        "id": "wH8G0-UFXNE7"
      },
      "source": [
        "#### Data Structures\n",
        "\n",
        "When we learn/perform computer programming, we create variables to store data (multiple values), to retrieve that data at a later stage. At times, we think about the question, how exactly the data is stored in the backend and retrieved back in the same format. The answer to this is **Data Structures**.\n",
        "\n",
        "A data structure is a way to organize and store data in the computer. It helps you to understand the relationship of one data element with the other and organize it within the memory. \n",
        "\n",
        "**Advantages of Data Structures:**\n",
        "1. A data structure will give the knowledge about the organization of data. \n",
        "2. It tells you how to design the structure of the data, control the flow of data, implement the structure to reduce the complexity, and increase the efficacy of the algorithm.\n",
        "\n",
        "\n",
        "For example:\n",
        "\n",
        "1. Think about storing the months of a year.\n",
        "\n",
        "<img src=\"https://s3-whjr-v2-prod-bucket.whjr.online/92a8933e-64b3-45f8-b754-2df570dfa65e.png\"/>\n",
        "\n",
        "> Since the months have a sequential relation between each other, we can store them in a location or a type of data structure in which we can get the next month's data through the current month and is itself obtained from the preceded month. Essentially, it happens when the current value has the data as well as the address of the next value.\n",
        "\n",
        "> The sequential data makes the relation linear. Hence the data structures used to store this information are also called as linear data structures like arrays, linked-list, queues, etc.\n",
        "\n",
        "2. Think about storing the set of data that stores information of historical places.\n",
        "\n",
        "\n",
        "<center><img src=\"https://s3-whjr-v2-prod-bucket.whjr.online/4dd21cbc-b938-4973-8437-6e85ba95f755.png\" width=450/></center>\n",
        "\n",
        "\n",
        "> Here, as we can observe, to store information each place has a hierarchy. We need to store information of city, state, and country as well for the historical places. This form of data is non-sequential. Hence, it has to be stored in a non-linear data structure, which along with the data stores the relation of the data on the higher and lower level. \n",
        "\n",
        "> Examples of non-linear data structures are trees, graphs, etc.\n",
        "\n"
      ]
    },
    {
      "cell_type": "markdown",
      "metadata": {
        "id": "d1UuX_ztyOtR"
      },
      "source": [
        "---"
      ]
    },
    {
      "cell_type": "markdown",
      "metadata": {
        "id": "AELBZVlTyQDp"
      },
      "source": [
        "#### Task 1: Introduction to Linked List\n",
        "\n",
        "Linked lists, as mentioned above, are linear data structures. It means that we can use a linked list to store sequential data. It can be represented as below:\n",
        "\n",
        "<center><img src=\"https://s3-whjr-v2-prod-bucket.whjr.online/9e7fe073-1395-4e2f-b4c1-616c9b5ea431.PNG\" /></center>\n",
        "\n",
        "\n",
        "Elements in a linked list are connected through the link to form a chain. The elements in the linked list are store in nodes. Each node is further divided into two parts:\n",
        "- The first part of a node contains information about the element or data part of the element.\n",
        "- The second part of a node contains the address to the next elements, that is, a link or pointer to the next element.\n",
        "\n",
        "\n",
        "The image below represents a node in a link list where \"Feb\" represents the data and the red arrow represents an address (pointer) to the next element.\n",
        "\n",
        "<center><img src=\"https://s3-whjr-v2-prod-bucket.whjr.online/ccb146b5-8a19-4bd2-baab-08a50741e19f.PNG\" width = 250/></center>\n",
        "\n",
        "\n",
        "**Note For Teachers:** It should be noted that a pointer is a data type in **C** or **C++**. In Python, we don't have the concept of the pointer. Here, the pointer is just  indicative of the next element in the linked list. (Teachers copy only) \n",
        "\n",
        "In Python, we can create a linked list with Object-Oriented Programming concepts. We can perform various operations on a linked list.\n",
        "\n",
        "So without any further Ado, let's begin with the creation of a linked list. \n",
        "\n",
        "As mentioned, a node itself has a structure with two types of information. So let's define the blueprint for Node with the following steps:\n",
        "\n",
        "<center><img src=\"https://s3-whjr-v2-prod-bucket.whjr.online/cd3de520-e7b6-419f-9d0e-e3d6d124b519.PNG\" width = 300/></center>\n",
        "\n",
        "\n",
        "1. Create class `N` to represent the node of a linked list. \n",
        "2. Add the `__init__()` method inside class `N` which takes input and stores it in an instance variable called `data` to store the information for the element.\n",
        "3. Also, add another instance variable `next` inside the `__init__()` method and assign the value `None` to it. This variable will be used to store links for the next element. It will be of type `N` (node) to access the next element of the linked list. \n",
        "\n",
        "**Note:** As we don't have a pointer in Python, we will store the object of class `N` to create the chain for the linked list.\n",
        "\n",
        "\n",
        "\n"
      ]
    },
    {
      "cell_type": "code",
      "metadata": {
        "id": "pn-BkNFwqk1J"
      },
      "source": [
        "# S1.1: Class N represent Node.\n",
        "class N:\n",
        "    def __init__(self,data):\n",
        "        self.data=data\n",
        "        self.next=None"
      ],
      "execution_count": 1,
      "outputs": []
    },
    {
      "cell_type": "markdown",
      "metadata": {
        "id": "_CykePrwwGNu"
      },
      "source": [
        "The structure for the node of the linked list is created. Let's create another class `LL` for linked list operations in **Task 2: Implement Linked List in Python**"
      ]
    },
    {
      "cell_type": "markdown",
      "metadata": {
        "id": "buu3rpQLJ3x1"
      },
      "source": [
        "---"
      ]
    },
    {
      "cell_type": "markdown",
      "metadata": {
        "id": "IoehPwJtJ2-2"
      },
      "source": [
        "#### Linked List Implementation \n",
        "\n",
        "A linked list also has a special link or pointer called **head** or start which points to the first node. Also, the last node has a second part as an empty link also known as \"Null Pointer\".\n",
        "\n",
        "<center><img src=\"https://s3-whjr-v2-prod-bucket.whjr.online/7d25b714-1c17-418e-87c8-00dcd8bbdd52.png\" width = 500/> </center>\n",
        "\n",
        "With the help of head link and other links we can perform various operations on a linked list  like:\n",
        "\n",
        "1. Traversal of a linked list\n",
        "2. Insertion of an element in a linked list\n",
        "3. Deletion of an element from a linked list\n",
        "\n",
        "Let's look into these operations in detail.\n"
      ]
    },
    {
      "cell_type": "markdown",
      "metadata": {
        "id": "6vLw0brWQA13"
      },
      "source": [
        "---"
      ]
    },
    {
      "cell_type": "markdown",
      "metadata": {
        "id": "0GRjXYPfPW96"
      },
      "source": [
        "#### Task 2: Traversal of a Linked List\n",
        "\n",
        "Traversal of a linked list means traveling through the elements of a linked list one by one and display the sequential data. A temporary link is used which points to the node that is currently being processed. Let's take a look at the traversal algorithm.\n",
        "\n",
        "Let the `head` be the pointer to the first node of the linked list and `curr` be the pointer processing the current node. Both these pointers will be objects of the class `N`. The algorithm for traversal of a linked list is as follows:\n",
        "\n",
        "**Note:** Gray part is the part of the algorithm and not a part of the program. \n",
        "\n",
        "1. In the beginning, the value of the `head` pointer will be assigned to the `curr` pointer, to display the elements in the linked list from the beginning: \n",
        "\n",
        ">  `curr = head`\n",
        "\n",
        "2. Process the current node i.e. print the data in the `curr` pointer:\n",
        "\n",
        ">  `print(curr.data)`\n",
        "\n",
        "3. Update the value of the `curr` pointer such that it will point to the next code. Use the value `curr.next` which has the link to the next node:\n",
        "\n",
        ">  `curr = curr.next`\n",
        "\n",
        "4. Repeat steps 2 and 3 till we reach the Null pointer for the `curr` pointer.\n",
        "\n",
        "\n",
        "Let's implement the above algorithm with a new linked list class by following steps:\n",
        "\n",
        "1. Create class `LL` to implement a linked list.\n",
        "\n",
        "2. Add the `__init__()` method inside class `LL` which assigns instance variable `head` to `None` initially to indicate an empty linked list.\n",
        "\n",
        "3. Add method `print_LL()` which will apply the linked list traversal algorithm. Inside this function, \n",
        " - First determine whether the linked list is empty or not. If it is empty, print `\"Linked List is Empty!!! Insert some elements before traversing\"`.\n",
        " -Then, print all the element of the linked list using the `while` loop."
      ]
    },
    {
      "cell_type": "code",
      "metadata": {
        "id": "Uz-MUT5jQKsa"
      },
      "source": [
        "# S2.1: Class 'LL' to implement linked list operations\n",
        "class LL:\n",
        "    # Create the linked list\n",
        "    def __init__(self):\n",
        "        self.head=None\n",
        "    # Function to print the linked list\n",
        "    def print_ll(self):\n",
        "        # Check whether self.head is None.\n",
        "        # If yes, then print 'linked list is empty' and return nothing\n",
        "        if self.head is None:\n",
        "            print(\"LinkedList is Empty\")\n",
        "            return \n",
        "        print(\"Elements of LL are:\")   \n",
        "    # Print the elements of the linked list using 'while' loop.\n",
        "    # Use 'next' attribute to move to the next node of the list.\n",
        "        curr=self.head\n",
        "        while(curr):\n",
        "            print(curr.data)\n",
        "            curr=curr.next\n",
        "        print(\"*\"*50)\n",
        "        "
      ],
      "execution_count": 2,
      "outputs": []
    },
    {
      "cell_type": "markdown",
      "metadata": {
        "id": "UVW3_CgSPmE_"
      },
      "source": [
        "The above program will create the class `LL`. But when the `print_LL()` will be called it will return an empty linked list as so far no element is added in the linked list. Let's take a look into the insertion operation of the linked list."
      ]
    },
    {
      "cell_type": "markdown",
      "metadata": {
        "id": "anVDQ06UPnL2"
      },
      "source": [
        "---"
      ]
    },
    {
      "cell_type": "markdown",
      "metadata": {
        "id": "Hh7p03elQ_76"
      },
      "source": [
        "#### Task 3: Insertion in a Linked List\n",
        "\n",
        "To add elements to the linked list, we have to insert elements. Insertion in a linked list is dynamic i.e. \n",
        "- We can add elements at the beginning of the linked list. \n",
        "- We can add elements in the end.\n",
        "- We can add elements anywhere in between other elements. \n",
        "\n",
        "Today we will learn to insert elements in the beginning and at the end of the linked list.\n",
        "\n"
      ]
    },
    {
      "cell_type": "markdown",
      "metadata": {
        "id": "9Yb7wxQ3Q1m_"
      },
      "source": [
        "\n",
        "##### **Insert element at the beginning of a linked list:**\n",
        "\n",
        "A new node is created for the new element link with the data and Null pointer. Let's take a look at the algorithm.\n",
        "\n",
        "Let the `head` be the pointer to the first node of the linked list and `new_node` be the new node. Both these pointers will be objects of the class `N`. The algorithm for insertion in a linked list is as follows:\n",
        "\n",
        "**Note:** Gray part is the part of the algorithm and not a part of the program. \n",
        "\n",
        "1. The value to be inserted is taken as input and is used to create an object `new_node` of class `N`:\n",
        "\n",
        "> `new_node = N(data)`\n",
        "\n",
        "2. The value inside the `head` pointer is assigned to the link or pointer of this `new_node` object. This is to ensure that this `new_node` will be linked to the first element in the existing linked list:\n",
        "\n",
        "> `new_node.next = head`\n",
        "\n",
        "3. Then update the value of the `head` pointer such that it points to the `new_node`:\n",
        "\n",
        "> `head = new_node`\n",
        "\n",
        "**Node:** If the list is empty then the link of the `new_node` will be a Null pointer or Empty Link.\n",
        "\n",
        "The image below represents how to value `Jan` is added at the beginning of the existing linked list.\n",
        "\n",
        "<center><img src = \"https://s3-whjr-v2-prod-bucket.whjr.online/94d43abc-4947-4193-9005-5dbddb99b3d8.PNG\" width = 500/> </center>\n",
        "\n",
        "Let's implement the above algorithm with a new linked list class by the following steps:\n",
        "\n",
        "1. Add method `insert_begin()` in the class `LL` which will take input `data` as the new value to be inserted in the existing linked list.\n",
        "\n",
        "2. Apply the insertion at the beginning algorithm."
      ]
    },
    {
      "cell_type": "code",
      "metadata": {
        "id": "kPL_3w_Iax1d"
      },
      "source": [
        "# S3.1: Class 'LL' to implement Linked List operations\n",
        "class LL:\n",
        "    # Create the linked list\n",
        "    def __init__(self):\n",
        "        self.head=None\n",
        "    # Function to insert element in the beginning of the linked list\n",
        "    def insert_begin(self,data):\n",
        "        new_node=N(data)\n",
        "        new_node.next=self.head\n",
        "        self.head=new_node\n",
        "    # Function to print the linked list\n",
        "    def print_ll(self):\n",
        "        # Check whether self.head is None.\n",
        "        # If yes, then print 'linked list is empty' and return nothing\n",
        "        if self.head is None:\n",
        "            print(\"LinkedList is Empty\")\n",
        "            return \n",
        "        print(\"Elements of LL are:\")   \n",
        "    # Print the elements of the linked list using 'while' loop.\n",
        "    # Use 'next' attribute to move to the next node of the list.\n",
        "        curr=self.head\n",
        "        while(curr):\n",
        "            print(curr.data)\n",
        "            curr=curr.next\n",
        "        print(\"*\"*50)\n",
        "        \n",
        "  \n",
        "    "
      ],
      "execution_count": 3,
      "outputs": []
    },
    {
      "cell_type": "markdown",
      "metadata": {
        "id": "2JSLm5z1bSzK"
      },
      "source": [
        "Now let's perform the operations below to verify the insertion of the elements at the beginning of the linked list:\n",
        "\n",
        "1. Create a linked list.\n",
        "2. Insert value `Apr` in the linked list.\n",
        "3. Print the linked list to verify the insertion.\n",
        "4. Insert value `Mar` in the linked list.\n",
        "5. Print the linked list to verify the insertion.\n",
        "6. Insert value `Feb` in the linked list.\n",
        "7. Print the linked list to verify the insertion.\n",
        "8. Insert value `Jan` in the linked list.\n",
        "9. Print the linked list to verify the insertion."
      ]
    },
    {
      "cell_type": "code",
      "metadata": {
        "id": "msfxHiANcQuw",
        "colab": {
          "base_uri": "https://localhost:8080/"
        },
        "outputId": "328074aa-ac97-400a-cbc2-7bb5bdbc840b"
      },
      "source": [
        "# S3.2: Create a linked list and insert the above elements at the beginning of the Linked List.\n",
        "# 1. Create the linked list\n",
        "ll=LL()\n",
        "# 2. Insert value `Apr` in the linked list.\n",
        "ll.insert_begin('Apr')\n",
        "# 3. Print the linked list to verify the insertion.\n",
        "ll.print_ll()\n",
        "# 4. Insert value `Mar` in the linked list.\n",
        "ll.insert_begin('Mar')\n",
        "# 5. Print the linked list to verify the insertion.\n",
        "ll.print_ll()\n",
        "\n",
        "# 6. Insert value `Feb` in the linked list.\n",
        "ll.insert_begin('Feb')\n",
        "# 7. Print the linked list to verify the insertion.\n",
        "ll.print_ll()\n",
        "# 8. Insert value `Jan` in the linked list.\n",
        "ll.insert_begin('Jan')\n",
        "\n",
        "# 9. Print the linked list to verify the insertion.\n",
        "ll.print_ll()"
      ],
      "execution_count": 4,
      "outputs": [
        {
          "output_type": "stream",
          "name": "stdout",
          "text": [
            "Elements of LL are:\n",
            "Apr\n",
            "**************************************************\n",
            "Elements of LL are:\n",
            "Mar\n",
            "Apr\n",
            "**************************************************\n",
            "Elements of LL are:\n",
            "Feb\n",
            "Mar\n",
            "Apr\n",
            "**************************************************\n",
            "Elements of LL are:\n",
            "Jan\n",
            "Feb\n",
            "Mar\n",
            "Apr\n",
            "**************************************************\n"
          ]
        }
      ]
    },
    {
      "cell_type": "markdown",
      "metadata": {
        "id": "xkoSmf8nQ9Su"
      },
      "source": [
        "As it can be observed, the elements are added to the linked list one by one. It can be seen that even though we are adding the names of the months in reverse order from `Apr` to `Jan` since we are adding the elements, in the beginning, the names of the months are from `Jan` to `Apr` in the linked list.\n",
        "\n",
        "Now, let's look into the second type of insertion in the linked list."
      ]
    },
    {
      "cell_type": "markdown",
      "metadata": {
        "id": "u0AI-3qDevmv"
      },
      "source": [
        "\n",
        "\n",
        "##### **Append an element at the end of a linked list**\n",
        "\n",
        "A new node is created for the new element link with the data and Null pointer. There are few things considered before appending the element to the existing linked list:\n",
        "- If the linked list is empty, the `head` pointer is assigned to the `new_node`.\n",
        "- If the linked list is not empty, we first traverse through the list. When we reach the Null pointer then the element is added.\n",
        "\n",
        "Let's take a look at the algorithm.\n",
        "\n",
        "Let the `head` be the pointer to the first node of the linked list and `new_node` be the new node. Both these pointers will be objects of the class `N`. The algorithm for traversal of a linked list is as follows:\n",
        "\n",
        "**Note:** Gray part is the part of the algorithm and not a part of the program. \n",
        "\n",
        "1. Check if the `head` pointer is empty, assign the `head` pointer to the `new_node`.\n",
        "\n",
        "> `new_node = head`\n",
        "\n",
        "2. If the first condition fails, create a temporary pointer `last` and assign the value of the `head` pointer to the list.\n",
        "\n",
        "> `last = head`\n",
        "\n",
        "3. With the `last` pointer traverse till the end of the linked list. \n",
        "\n",
        "4. After reaching the end, assign a value of the `new_node` to the link of the `last` pointer.\n",
        "\n",
        "> `last.next = new_node`\n",
        "\n",
        "The image below represents how value `May` is appended at the end of the existing linked list. The Null Pointer in the node with the value `Apr` is updated with the new element.\n",
        "\n",
        "<center><img src = \"https://s3-whjr-v2-prod-bucket.whjr.online/e0ea5a0d-d0ee-405f-b302-ea112f556428.PNG\" width = 500/> </center>\n",
        "\n",
        "Let's implement the above algorithm with a new linked list class by following steps:\n",
        "\n",
        "1. Add method `append()` in the class `LL` which will take input `data` as the new value to be inserted in the existing linked list.\n",
        "\n",
        "2. Apply the Append algorithm.\n"
      ]
    },
    {
      "cell_type": "code",
      "metadata": {
        "id": "CRZDil0ylffw"
      },
      "source": [
        "# S3.3: Class 'LL' to implement linked list operations\n",
        "class LL:\n",
        "    # Create the linked list\n",
        "    def __init__(self):\n",
        "        self.head=None\n",
        "    # Function to insert element in the beginning of the linked list\n",
        "    def insert_begin(self,data):\n",
        "        new_node=N(data)\n",
        "        new_node.next=self.head\n",
        "        self.head=new_node\n",
        "     # Function to append element in the end of the linked list\n",
        "    def append(self,new_data):\n",
        "        new_node=N(new_data)  \n",
        "    \n",
        "        if self.head is None:\n",
        "            self.head=new_node\n",
        "            return\n",
        "     # create temporary 'last' pointer   \n",
        "        last=self.head\n",
        "    # increment pointer till it reach end\n",
        "        while(last.next):\n",
        "            last=last.next\n",
        "           # set new node at end\n",
        "        last.next=new_node\n",
        "\n",
        "    # Function to print the linked list\n",
        "\n",
        "    def print_ll(self):\n",
        "        # Check whether self.head is None.\n",
        "        # If yes, then print 'linked list is empty' and return nothing\n",
        "        if self.head is None:\n",
        "            print(\"LinkedList is Empty\")\n",
        "            return \n",
        "        print(\"Elements of LL are:\")   \n",
        "    # Print the elements of the linked list using 'while' loop.\n",
        "    # Use 'next' attribute to move to the next node of the list.\n",
        "        curr=self.head\n",
        "        while(curr):\n",
        "            print(curr.data)\n",
        "            curr=curr.next\n",
        "        print(\"*\"*50)"
      ],
      "execution_count": 6,
      "outputs": []
    },
    {
      "cell_type": "markdown",
      "metadata": {
        "id": "XyZBiVftlffy"
      },
      "source": [
        "Now let's perform the operations below to verify the insertion of the elements at the end of the linked list:\n",
        "\n",
        "1. Create a linked list.\n",
        "2. Append value `Jan` in the linked list.\n",
        "3. Print the linked list to verify the insertion.\n",
        "4. Append value `Feb` in the linked list.\n",
        "5. Print the linked list to verify the insertion.\n",
        "6. Append value `Mar` in the linked list.\n",
        "7. Print the linked list to verify the insertion.\n",
        "8. Append value `Apr` in the linked list.\n",
        "9. Print the linked list to verify the insertion.\n",
        "10. Append value `May` in the linked list.\n",
        "11. Print the linked list to verify the insertion."
      ]
    },
    {
      "cell_type": "code",
      "metadata": {
        "id": "MwciB182lffy",
        "colab": {
          "base_uri": "https://localhost:8080/"
        },
        "outputId": "6722901e-5287-4f56-f822-d7a00ac50ea0"
      },
      "source": [
        "# S3.4: Create a linked list and append the above elements at the end of the Linked List.\n",
        "\n",
        "# 1. Create the linked list.\n",
        "ll=LL()\n",
        "# 2. Append value `Jan` in the linked list.\n",
        "ll.append('Jan')\n",
        "\n",
        "\n",
        "# 3. Print the linked list to verify the insertion.\n",
        "\n",
        "ll.print_ll()\n",
        "# 4. Append value `Feb` in the linked list.\n",
        "ll.append('Feb')\n",
        "\n",
        "# 5. Print the linked list to verify the insertion.\n",
        "ll.print_ll()\n",
        "\n",
        "# 6. Append value `Mar` in the linked list.\n",
        "ll.append('Mar')\n",
        "\n",
        "# 7. Print the linked list to verify the insertion.\n",
        "ll.print_ll()\n",
        "\n",
        "# 8. Append value `Apr` in the linked list.\n",
        "ll.append('Apr')\n",
        "\n",
        "# 9. Print the linked list to verify the insertion.\n",
        "ll.print_ll()\n",
        "\n",
        "# 10. Append value `May` in the linked list.\n",
        "ll.append('May')\n",
        "\n",
        "# 11. Print the linked list to verify the insertion.\n",
        "ll.print_ll()"
      ],
      "execution_count": 7,
      "outputs": [
        {
          "output_type": "stream",
          "name": "stdout",
          "text": [
            "Elements of LL are:\n",
            "Jan\n",
            "**************************************************\n",
            "Elements of LL are:\n",
            "Jan\n",
            "Feb\n",
            "**************************************************\n",
            "Elements of LL are:\n",
            "Jan\n",
            "Feb\n",
            "Mar\n",
            "**************************************************\n",
            "Elements of LL are:\n",
            "Jan\n",
            "Feb\n",
            "Mar\n",
            "Apr\n",
            "**************************************************\n",
            "Elements of LL are:\n",
            "Jan\n",
            "Feb\n",
            "Mar\n",
            "Apr\n",
            "May\n",
            "**************************************************\n"
          ]
        }
      ]
    },
    {
      "cell_type": "markdown",
      "metadata": {
        "id": "E-fI9JB7QdiP"
      },
      "source": [
        "As we can observe, the name of months from `Jan` to `May` are appended in the linked list.\n",
        "\n",
        "Now, that the linked list is implemented, let's look into deleting the elements from the linked list."
      ]
    },
    {
      "cell_type": "markdown",
      "metadata": {
        "id": "RftALs7wQeuK"
      },
      "source": [
        "---"
      ]
    },
    {
      "cell_type": "markdown",
      "metadata": {
        "id": "3_Ea_X2Sm4Iv"
      },
      "source": [
        "#### Task 4: Deletion from a Linked List\n",
        "\n",
        "If the `key` is the value that needs to be deleted from the existing linked list, a temporary node `temp` is created to traverse the list to find the `key`. Also, another temporary node `prev` is created to keep track of the element preceding the element to be deleted.\n",
        "\n",
        "There are few things considered before performing deletion to the existing linked list:\n",
        "- If the linked list is empty, an error message is displayed `Empty Linked List!!! Deletion Failed!!`\n",
        "- If the linked list is not empty, the `head` pointer value is assigned to the link of the `temp` node. \n",
        "  - We traverse through the list with the `temp` node. \n",
        "  - The `data` value in each node is compared with the `temp` node key value. \n",
        "  - If the `key` is found, we exit the traversal and delete that node.\n",
        "- If the traversal is complete, then the `key` to be deleted is not found. And an error message is displayed `Invalid Data!!! Existing Linked List does not contain the matching element`\n",
        "\n",
        "\n",
        "Let's take a look at the algorithm.\n",
        "\n",
        "**Note:** Gray part is the part of the algorithm and not a part of the program. \n",
        "\n",
        "1. Check if the `head` pointer is empty, print the appropriate error message, and exit the function.\n",
        "\n",
        "2. If the `head` pointer is not empty, create the `temp` node and assign the `head` pointer to the `temp` node:\n",
        "\n",
        "> `temp = head`\n",
        "\n",
        "3. With the `temp` pointer traverse till the end of the linked list till the `key` is found. \n",
        "\n",
        "4. If the `key` is found, update `prev` node, and assign `temp` node value to it: \n",
        "\n",
        "> `prev = temp`\n",
        "\n",
        "5. Update the `temp` node:\n",
        "> `temp = temp.next`\n",
        "\n",
        "\n",
        "7. If the traversal is complete without and the `key` value is not found, print the appropriate error message, and exit the function.\n",
        "\n",
        "8. Delete the element with `key` value by updating the value of `prev` node link to the node next to `temp`:\n",
        "\n",
        "> `prev.next = temp.next`\n",
        "\n",
        "8. Delete the `temp` pointers.\n",
        "\n",
        "The image below represents how value `Dec` is deleted from the existing linked list. The link in the node with value `Feb` is linked to a node with value `Mar`.\n",
        "\n",
        "<center><img src = \"https://s3-whjr-v2-prod-bucket.whjr.online/4d44a53a-cc38-40fc-a2ef-f5a1e36849fd.PNG\" width = 500/> </center>\n",
        "\n",
        "Let's implement the above algorithm with a new Linked List class by following steps:\n",
        "\n",
        "1. Add method `delete()` in the class `LL` which will take the input `key` as the value of the element to be deleted in the existing linked list.\n",
        "\n",
        "2. Apply the Deletion algorithm.\n"
      ]
    },
    {
      "cell_type": "code",
      "metadata": {
        "id": "oFVeKWgzw_0n"
      },
      "source": [
        "# S4.1: Class 'LL' to implement Linked List operations\n",
        "class LL:\n",
        "    # Create the linked list\n",
        "    def __init__(self):\n",
        "        self.head=None\n",
        "    # Function to insert element in the beginning of the linked list\n",
        "    def insert_begin(self,data):\n",
        "        new_node=N(data)\n",
        "        new_node.next=self.head\n",
        "        self.head=new_node\n",
        "     # Function to append element in the end of the linked list\n",
        "    def append(self,new_data):\n",
        "        new_node=N(new_data)  \n",
        "    \n",
        "        if self.head is None:\n",
        "            self.head=new_node\n",
        "            return\n",
        "     # create temporary 'last' pointer   \n",
        "        last=self.head\n",
        "    # increment pointer till it reach end\n",
        "        while(last.next):\n",
        "            last=last.next\n",
        "           # set new node at end\n",
        "        last.next=new_node\n",
        "\n",
        "\n",
        "\n",
        "  # Function to delete element from the linked list\n",
        "    def delete(self,key):\n",
        "        # if list is empty\n",
        "        if self.head is None:\n",
        "            print(\"Deltion Failed List is empty\")\n",
        "            return\n",
        "\t  \n",
        "    # Create temp pointer at head\n",
        "        temp=self.head\n",
        "    # Traverse the list and update temp till 'key' is not found\n",
        "        while(temp is not None):\n",
        "\n",
        "    \t# check if 'data' is equal to 'key' to be deleted\n",
        "            if temp.data==key:\n",
        "                break\n",
        "            prev=temp\n",
        "            temp=temp.next\n",
        "            \n",
        "    # If key was not present in linked list return\n",
        "        if temp is None:\n",
        "            print(\"LL doesnt have key \")\n",
        "            return\n",
        "    # Delete the element with 'key' value\n",
        "        prev.next=temp.next\n",
        "    # Function to print the linked list\n",
        "        temp=None\n",
        "        \n",
        "    def print_ll(self):\n",
        "        # Check whether self.head is None.\n",
        "        # If yes, then print 'linked list is empty' and return nothing\n",
        "        if self.head is None:\n",
        "            print(\"LinkedList is Empty\")\n",
        "            return \n",
        "        print(\"Elements of LL are:\")   \n",
        "    # Print the elements of the linked list using 'while' loop.\n",
        "    # Use 'next' attribute to move to the next node of the list.\n",
        "        curr=self.head\n",
        "        while(curr):\n",
        "            print(curr.data)\n",
        "            curr=curr.next\n",
        "        print(\"*\"*50)\n"
      ],
      "execution_count": 8,
      "outputs": []
    },
    {
      "cell_type": "markdown",
      "metadata": {
        "id": "dYkGcZOs0Lf2"
      },
      "source": [
        "Now let's perform the operations below to verify deletion of the elements from the linked list:\n",
        "\n",
        "1. Create a linked list.\n",
        "2. Append value `Jan` in the linked list.\n",
        "3. Print the linked list to verify the insertion.\n",
        "4. Append value `Feb` in the linked list.\n",
        "5. Print the linked list to verify the insertion.\n",
        "6. Append value `Dec` in the linked list.\n",
        "7. Print the linked list to verify the insertion.\n",
        "8. Append value `Mar` in the linked list.\n",
        "9. Print the linked list to verify the insertion.\n",
        "10. Append value `Apr` in the linked list.\n",
        "11. Print the linked list to verify the insertion.\n",
        "12. Delete `Dec` from the linked list\n",
        "13. Print the linked list to verify the deletion."
      ]
    },
    {
      "cell_type": "code",
      "metadata": {
        "id": "KdKC5eUZ0xOX",
        "colab": {
          "base_uri": "https://localhost:8080/"
        },
        "outputId": "ae1168d6-1415-4596-95cf-0181f33af26b"
      },
      "source": [
        "# S4.2: Create a linked list and perform the above operations to the Linked List.\n",
        "\n",
        "# 1. Create the linked list.\n",
        "ll=LL()\n",
        "# 2. Append value `Jan` in the linked list.\n",
        "ll.append('Jan')\n",
        "\n",
        "\n",
        "# 3. Print the linked list to verify the insertion.\n",
        "\n",
        "ll.print_ll()\n",
        "# 4. Append value `Feb` in the linked list.\n",
        "ll.append('Feb')\n",
        "\n",
        "# 5. Print the linked list to verify the insertion.\n",
        "ll.print_ll()\n",
        "\n",
        "# 6. Append value `Mar` in the linked list.\n",
        "ll.append('Mar')\n",
        "\n",
        "# 7. Print the linked list to verify the insertion.\n",
        "ll.print_ll()\n",
        "\n",
        "# 8. Append value `Apr` in the linked list.\n",
        "ll.append('Apr')\n",
        "\n",
        "# 9. Print the linked list to verify the insertion.\n",
        "ll.print_ll()\n",
        "\n",
        "# 10. Append value `May` in the linked list.\n",
        "ll.append('May')\n",
        "\n",
        "# 11. Print the linked list to verify the insertion.\n",
        "ll.print_ll()\n",
        "\n",
        "\n",
        "# 11. Delete value `Dec` from the linked list.\n",
        "ll.delete('Mayi')\n",
        "\n",
        "# 11. Print the linked list to verify the insertion.\n",
        "ll.print_ll()"
      ],
      "execution_count": 10,
      "outputs": [
        {
          "output_type": "stream",
          "name": "stdout",
          "text": [
            "Elements of LL are:\n",
            "Jan\n",
            "**************************************************\n",
            "Elements of LL are:\n",
            "Jan\n",
            "Feb\n",
            "**************************************************\n",
            "Elements of LL are:\n",
            "Jan\n",
            "Feb\n",
            "Mar\n",
            "**************************************************\n",
            "Elements of LL are:\n",
            "Jan\n",
            "Feb\n",
            "Mar\n",
            "Apr\n",
            "**************************************************\n",
            "Elements of LL are:\n",
            "Jan\n",
            "Feb\n",
            "Mar\n",
            "Apr\n",
            "May\n",
            "**************************************************\n",
            "LL doesnt have key \n",
            "Elements of LL are:\n",
            "Jan\n",
            "Feb\n",
            "Mar\n",
            "Apr\n",
            "May\n",
            "**************************************************\n"
          ]
        }
      ]
    },
    {
      "cell_type": "markdown",
      "metadata": {
        "id": "eTiL1GEc3CiL"
      },
      "source": [
        "As we can observe, the key value `Dec` is deleted from the existing linked list.\n",
        "\n",
        "So to summarize the lesson, a linked list is a linear data structure with the following:\n",
        "\n",
        "- **Dynamic size**: The size of the linked list is not fixed as in the case of an array. So, there is a wastage of space as in an array.\n",
        "\n",
        "- **Fast insertion and deletion**: The size of the linked list is not fixed as in the case of an array. So, there is no wastage of space as in the array. Also, there are multiple ways to add or delete elements from a linked list.\n",
        "\n",
        "- **No direct access**: Every time element is to be accessed we have to go through the starting point in the list.\n",
        "\n",
        "- **Extra Memory needed**: Extra memory to store pointers is required.\n"
      ]
    },
    {
      "cell_type": "markdown",
      "metadata": {
        "id": "kqsPpG0kg0_m"
      },
      "source": [
        "Thus, in this class, we learned basics of Linked List and how to implement them using Python. \n",
        "\n",
        "In the next class, we will learn another abstract and linear data structure called Stacks."
      ]
    },
    {
      "cell_type": "markdown",
      "metadata": {
        "id": "UcGNpznRoL14"
      },
      "source": [
        "----"
      ]
    }
  ]
}