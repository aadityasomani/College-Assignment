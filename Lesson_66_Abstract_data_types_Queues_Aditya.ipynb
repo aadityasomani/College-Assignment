{
  "nbformat": 4,
  "nbformat_minor": 0,
  "metadata": {
    "colab": {
      "name": "Lesson 66 - Abstract data types - Queues - Aditya",
      "provenance": [],
      "collapsed_sections": [],
      "include_colab_link": true
    },
    "kernelspec": {
      "name": "python3",
      "display_name": "Python 3"
    }
  },
  "cells": [
    {
      "cell_type": "markdown",
      "metadata": {
        "id": "view-in-github",
        "colab_type": "text"
      },
      "source": [
        "<a href=\"https://colab.research.google.com/github/aadityasomani/College-Assignment/blob/main/Lesson_66_Abstract_data_types_Queues_Aditya.ipynb\" target=\"_parent\"><img src=\"https://colab.research.google.com/assets/colab-badge.svg\" alt=\"Open In Colab\"/></a>"
      ]
    },
    {
      "cell_type": "markdown",
      "metadata": {
        "id": "Eh_wYL6f6zac"
      },
      "source": [
        "#Lesson 66: Abstract Data Types - Queues"
      ]
    },
    {
      "cell_type": "markdown",
      "metadata": {
        "id": "rmIRMMFfVn2i"
      },
      "source": [
        "---"
      ]
    },
    {
      "cell_type": "markdown",
      "metadata": {
        "id": "v1Z0IIWD63RV"
      },
      "source": [
        "### Teacher-Student Activities\n",
        "\n",
        "In this lesson, we will learn about one more linear data structure Queue and explore basic operations that can be performed on Queues. "
      ]
    },
    {
      "cell_type": "markdown",
      "metadata": {
        "id": "A5W61Q5V7JGU"
      },
      "source": [
        "---"
      ]
    },
    {
      "cell_type": "markdown",
      "metadata": {
        "id": "O0IrT4UX7kZ_"
      },
      "source": [
        "#### Introduction to the Queues\n",
        "\n",
        "The Queue is a type of linear data structure where the data (element) is queued back to back. \n",
        "\n",
        "Let us consider a scenario where you have to program an application where you have to select a customer for serving orders in the restaurant. Application has to be developed in such a way that the first customer who came first is served and later the second and so on. \n",
        "\n",
        "You would make an application to serve the customer who came first and if later any new customer is added you would add him after all the customers present in the restaurant.  \n",
        "\n",
        "Queues follow the **FIFO** principle. **FIFO** stands for **Fast-in-first-out**. The first element to get in is the first one to get out. \n",
        "\n",
        "The two operations used to apply the queue data structure are:  \n",
        "\n",
        "**1.** **Enqueue (queue)**: Adding an element at the end of the queue.\n",
        "\n",
        "**2.** **Dequeue (queue)**: Removing an element from the start of the queue. \n",
        "\n",
        "\n",
        "**Note:** Sometimes enqueue and dequeue operations are also called **push** and **pop** in the queue, depending upon the reference material. We will stick to enqueue and dequeue to be more precise about the data structure we are referring to. \n",
        "\n",
        "\n",
        "\n",
        "\n",
        "\n",
        "\n"
      ]
    },
    {
      "cell_type": "markdown",
      "metadata": {
        "id": "y71nu69NpDz6"
      },
      "source": [
        "---"
      ]
    },
    {
      "cell_type": "markdown",
      "metadata": {
        "id": "Cw6ObjHqpEWm"
      },
      "source": [
        "#### Task 1: Enqueue Operation\n",
        "\n",
        "Enqueueing an element in the queue is just adding an element at the end of the queue. \n",
        "\n",
        "For now, let us assume a list `queue_1` as a queue.\n",
        "\n",
        "Follow the steps given below to perform enqueue operation on `queue_1` using Python:\n",
        "\n",
        "\n",
        "1. Create an empty list `queue_1` as our empty queue.\n",
        "\n",
        "2. Create the `enqueue()` function. This  function should accept the following two parameters: \n",
        " - `queue`: The queue object, where the element needs to be added.\n",
        " -  `n`: The element to be added.\n",
        "\n",
        "3. Use `append()` function of list inside the `enqueue()` function to append element `n` to `queue`.  \n",
        "\n",
        "3. Enqueue elements `1`, `2`, `3`, `4`, and `5` one by one in the queue by calling the `enqueue()` function for each element.\n",
        "\n",
        "4. Print all the values in the `queue_1` after every `enqueue()` function call.\n",
        "\n"
      ]
    },
    {
      "cell_type": "code",
      "metadata": {
        "id": "u8TR3StpqO3h",
        "colab": {
          "base_uri": "https://localhost:8080/"
        },
        "outputId": "3043f4a2-1ecd-4a20-e375-fa18a42b1769"
      },
      "source": [
        "# S1.1: Create a queue and push 1, 2, 3, 4, and 5\n",
        "queue=[]\n",
        "def enqueue(queue,data):\n",
        "    queue.append(data)\n",
        "enqueue(queue,1)\n",
        "enqueue(queue,2)\n",
        "enqueue(queue,3)\n",
        "enqueue(queue,4)\n",
        "enqueue(queue,5)\n",
        "queue"
      ],
      "execution_count": 19,
      "outputs": [
        {
          "output_type": "execute_result",
          "data": {
            "text/plain": [
              "[1, 2, 3, 4, 5]"
            ]
          },
          "metadata": {},
          "execution_count": 19
        }
      ]
    },
    {
      "cell_type": "markdown",
      "metadata": {
        "id": "a4ZuO6zhqufh"
      },
      "source": [
        "You may observe that the numbers `1`, `2`, `3`, `4`, and `5` are added to the queue. This was fairly easy. Let's see how other operations in the queue work. \n",
        "\n",
        "Note that the order of the elements enqueued matter because of the FIFO principle."
      ]
    },
    {
      "cell_type": "markdown",
      "metadata": {
        "id": "6m_RjhF7q6lH"
      },
      "source": [
        "---"
      ]
    },
    {
      "cell_type": "markdown",
      "metadata": {
        "id": "Gc4buyVhq7L_"
      },
      "source": [
        "#### Task 2: Dequeue Operation\n",
        "\n",
        "\n",
        "Dequeueing an element in the queue is just eliminating an element from the start of the queue. \n",
        "\n",
        "Again assuming  list `queue_1` as a queue of elements created in the above activity, let's dequeue elements from this queue. \n",
        "\n",
        "Follow the steps given below to perform enqueue operation on `queue_1` using Python:\n",
        "\n",
        "\n",
        "1. Create a `dequeue()` function. This  function should accept the `queue` object as a parameter.\n",
        "\n",
        "2. Use the `pop(0)` function of the list inside `dequeue()` function  to remove the first element from  the `queue` and also return the element removed. \n",
        "\n",
        "2. Dequeue three elements by calling `dequeue()` function thrice. \n",
        "\n",
        "3. Print all the values in the `queue_1` after every `dequeue()` function call.\n",
        "\n",
        "\n",
        "\n",
        "\n"
      ]
    },
    {
      "cell_type": "code",
      "metadata": {
        "id": "5OILTdoEsDPi",
        "colab": {
          "base_uri": "https://localhost:8080/"
        },
        "outputId": "dd8bbbea-e8f0-407c-cc4e-abd528f3aa1b"
      },
      "source": [
        "# S2.1: Dequeue elements three times and print them \n",
        "def dequeue(queue):\n",
        "    e=queue.pop(0)\n",
        "    return e\n",
        "print(dequeue(queue))\n",
        "print(dequeue(queue))\n",
        "print(dequeue(queue))\n",
        "queue"
      ],
      "execution_count": 20,
      "outputs": [
        {
          "output_type": "stream",
          "name": "stdout",
          "text": [
            "1\n",
            "2\n",
            "3\n"
          ]
        },
        {
          "output_type": "execute_result",
          "data": {
            "text/plain": [
              "[4, 5]"
            ]
          },
          "metadata": {},
          "execution_count": 20
        }
      ]
    },
    {
      "cell_type": "markdown",
      "metadata": {
        "id": "oZQ4uuyi_hlF"
      },
      "source": [
        "You may observe that the numbers `1`, `2`, and `3` are dequeued one by one each time the `dequeue()` function is called.\n",
        "\n",
        "\n",
        "\n"
      ]
    },
    {
      "cell_type": "markdown",
      "metadata": {
        "id": "eq2AdS7ZB6hs"
      },
      "source": [
        "---"
      ]
    },
    {
      "cell_type": "markdown",
      "metadata": {
        "id": "6A6oCBj_B7Jc"
      },
      "source": [
        "#### Task 3: Front Operation\n",
        "\n",
        "Element present at the start of the queue is most important and we often need it without dequeuing it while solving problems. \n",
        "\n",
        "The front operation of a queue returns the front element in the queue.\n",
        "\n",
        "**Note:** The front operation does not alter the queue in any manner.  \n",
        "\n",
        "Follow the steps given below to perform the front operation on `queue_1` using Python:\n",
        "\n",
        "1. Create a function `front()`. This  function should accept the `queue` object as a parameter.\n",
        "\n",
        "2. Return the first element of the queue inside the `front()` function using the list indexing method. \n",
        "   \n",
        " \n",
        "3. Store the front element of the queue in `front_element_1` by calling the `front()` function and print it.\n",
        "\n",
        "4. Print all the values in `queue_1` and observe if there are any changes or not.\n"
      ]
    },
    {
      "cell_type": "code",
      "metadata": {
        "id": "Hu0X2SX4DC-n",
        "colab": {
          "base_uri": "https://localhost:8080/"
        },
        "outputId": "c8a5c7f0-5c2a-4c44-80af-55c6bd62e23c"
      },
      "source": [
        "# S3.1: Implement front operation.\n",
        "def front(queue):\n",
        "    return queue[0]\n",
        "front(queue)"
      ],
      "execution_count": 21,
      "outputs": [
        {
          "output_type": "execute_result",
          "data": {
            "text/plain": [
              "4"
            ]
          },
          "metadata": {},
          "execution_count": 21
        }
      ]
    },
    {
      "cell_type": "markdown",
      "metadata": {
        "id": "sZk5J2jXDhcV"
      },
      "source": [
        "You may observe that there are two elements in the queue i.e. `4` and `5` and element `4` is returned as it is at the front of the queue. Also there is no change in `queue_1` after calling the `front()` function. \n",
        "\n"
      ]
    },
    {
      "cell_type": "markdown",
      "metadata": {
        "id": "P0T9IQXSD2CC"
      },
      "source": [
        "---"
      ]
    },
    {
      "cell_type": "markdown",
      "metadata": {
        "id": "QYPDMxoUD9CV"
      },
      "source": [
        "#### Task 4: Rear Operation\n",
        "\n",
        "Element present at the end of the queue is most often required to perform certain algorithms.\n",
        "\n",
        "The rear operation of a queue returns the last element in the queue. This does not alter the queue in any manner.  \n",
        "\n",
        "\n",
        "Follow the steps given below to perform the rear operation on `queue_1` using Python:\n",
        "\n",
        "1. Create a function `rear()`. This function should accept the `queue` object as a parameter.\n",
        "\n",
        "2. Return the last element of the queue using the list indexing method inside the `rear()` function. \n",
        "   \n",
        " \n",
        "3. Store the rear element of the queue in the `rear_element_1` by calling the `rear()` function and print it.\n",
        "\n",
        "4. Print all the values in `queue_1` and observe if there are any changes or not.\n",
        "\n",
        "\n"
      ]
    },
    {
      "cell_type": "code",
      "metadata": {
        "id": "ISs9vwM2ECtn",
        "colab": {
          "base_uri": "https://localhost:8080/"
        },
        "outputId": "e2184b85-c525-4d8b-9241-874707cacc28"
      },
      "source": [
        "# S4.1: Implement rear operation.\n",
        "def rear(queue):\n",
        "    return queue[-1]\n",
        "rear(queue)"
      ],
      "execution_count": 22,
      "outputs": [
        {
          "output_type": "execute_result",
          "data": {
            "text/plain": [
              "5"
            ]
          },
          "metadata": {},
          "execution_count": 22
        }
      ]
    },
    {
      "cell_type": "markdown",
      "metadata": {
        "id": "YAUnNa9TELqV"
      },
      "source": [
        "You may observe that `5` is returned as it is at the rear of the queue.\n",
        "\n",
        "Also, there is no change in the queue after calling the `rear()` function. \n",
        "\n"
      ]
    },
    {
      "cell_type": "markdown",
      "metadata": {
        "id": "0ctNzXyII24A"
      },
      "source": [
        "---"
      ]
    },
    {
      "cell_type": "markdown",
      "metadata": {
        "id": "8COHtMm5I3lO"
      },
      "source": [
        "#### Task 5: IsEmpty Operation\n",
        "\n",
        "Often we need to know whether our queue is empty or not. \n",
        "\n",
        "The `IsEmpty` operation of a queue returns whether the queue is empty or not.\n",
        "\n",
        "\n",
        "Follow the steps given below to check whether the  `queue_1` is empty or not using Python:\n",
        "\n",
        "1. Create a function `IsEmpty()`. This function should accept the `queue` object as a parameter.\n",
        "\n",
        "2. Check the length of the `queue` inside this function.  If the length is `0`, return `\"Queue is empty\"` else return `\"Queue is not empty\"`.\n",
        "\n",
        "2. Call the `IsEmpty()` function and print the values of `queue_1`.\n",
        "   \n",
        " \n"
      ]
    },
    {
      "cell_type": "code",
      "metadata": {
        "id": "ipkVKIr2I9tC",
        "colab": {
          "base_uri": "https://localhost:8080/"
        },
        "outputId": "96d2e55c-7d77-4258-bd1d-26f822dfb7f8"
      },
      "source": [
        "# S5.1: Implement an IsEmpty operation.\n",
        "def IsEmpty(queue):\n",
        "    if len(queue)==0:\n",
        "        return True\n",
        "    else:\n",
        "        return False\n",
        "IsEmpty(queue)"
      ],
      "execution_count": 23,
      "outputs": [
        {
          "output_type": "execute_result",
          "data": {
            "text/plain": [
              "False"
            ]
          },
          "metadata": {},
          "execution_count": 23
        }
      ]
    },
    {
      "cell_type": "markdown",
      "metadata": {
        "id": "8GxA4YnhJGW9"
      },
      "source": [
        "As we can observe that the queue is not empty and there is no change in the queue after calling the `IsEmpty()` function."
      ]
    },
    {
      "cell_type": "markdown",
      "metadata": {
        "id": "n3YA-MECJLB5"
      },
      "source": [
        "---"
      ]
    },
    {
      "cell_type": "markdown",
      "metadata": {
        "id": "Nb1mXVDAQ72S"
      },
      "source": [
        "#### Task 6: Size Operation\n",
        "\n",
        "We may need to keep a check on how many elements are present in the queue sometimes while solving the coding problem.\n",
        "\n",
        "The size operation of the queue returns the number of elements in the queue. It is also the length of the queue.\n",
        "\n",
        "Follow the steps given below to perform size operation on  `queue_1` using Python:\n",
        "\n",
        "1. Create a function `size()`. This function should accept the `queue` object as a parameter.\n",
        "\n",
        "2. Return the length of `queue_1` inside the `size()` function.\n",
        "\n",
        "2. Call the `size()` function and print the size of `queue_1`.\n",
        "\n",
        "3. Print all the values in `queue_1` and observe if there are any changes or not after calling the `size()` function.\n"
      ]
    },
    {
      "cell_type": "code",
      "metadata": {
        "id": "5TdmQxwdQ98P",
        "colab": {
          "base_uri": "https://localhost:8080/"
        },
        "outputId": "4ede12ef-3444-4cb1-ba9c-315638a13b21"
      },
      "source": [
        "# S6.1: Implement size operation.\n",
        "def size(queue):\n",
        "    return len(queue)\n",
        "size(queue)"
      ],
      "execution_count": 24,
      "outputs": [
        {
          "output_type": "execute_result",
          "data": {
            "text/plain": [
              "2"
            ]
          },
          "metadata": {},
          "execution_count": 24
        }
      ]
    },
    {
      "cell_type": "markdown",
      "metadata": {
        "id": "_8_IZesTRG72"
      },
      "source": [
        "Hence, the `size()` function returns the number of elements present in the queue. It does not affect the queue.\n"
      ]
    },
    {
      "cell_type": "markdown",
      "metadata": {
        "id": "R_SD1SjKSAPy"
      },
      "source": [
        "---"
      ]
    },
    {
      "cell_type": "markdown",
      "metadata": {
        "id": "lR6A_vk4SA1P"
      },
      "source": [
        "#### Task 7: Using a Linked List\n",
        "\n",
        "Let us learn how to implement a queue using a linked list. We will first create a queue and then perform enqueue and dequeue operations on it.\n",
        "\n",
        "Follow the steps given below to implement a queue using a linked list.\n",
        "\n",
        "1. Create a class `Node` with `data` and `next` instance variables:"
      ]
    },
    {
      "cell_type": "code",
      "metadata": {
        "id": "l-p9K2-vST46"
      },
      "source": [
        "# S7.1: Create 'Node' class\n",
        "class Node:\n",
        "  def __init__(self, data):\n",
        "    self.data = data\n",
        "    self.next = None"
      ],
      "execution_count": 25,
      "outputs": []
    },
    {
      "cell_type": "markdown",
      "metadata": {
        "id": "klbRG8CqTg_n"
      },
      "source": [
        "2. Create a class `Queue` with `head` and `last` instance variables. The variable `head` points to the first element in the linked list while the `last` points to the last element. Initialize both the variables to `None`.\n",
        "\n",
        "3. Define a `enqueue()` function inside the `Queue` class. This function takes `Data` as input which is nothing but the element to be enqueued. Inside this function, check:\n",
        "  - If `last` is `None` i.e if there is no last element, then `head` must be the new node having element `Data` and `last` must be the new `head` element.\n",
        "  - Else assign new node having element `Data` to the next node of the last node and `last` must be the recently added node i.e.\n",
        "  ```python\n",
        "    last.next = Node(data)\n",
        "    last = last.next\n",
        "  ```\n",
        "\n",
        "4. Define another function `dequeue()` inside the class `Queue`. Inside this function, check:\n",
        "   - If the `head` is `None` i.e if there is no element in the queue, return `None`.\n",
        "   - Else fetch the first element `head.data` and store it in a variable `to_return`. Make the next element as the first element of the list. Return the value of the `to_return` variable.\n",
        "   \n",
        "\n",
        "\n",
        "\n"
      ]
    },
    {
      "cell_type": "code",
      "metadata": {
        "id": "aCajw0uUxgOM"
      },
      "source": [
        "# S7.2: Create 'Queue' class and define 'enqueue()' and 'dequeue()' functions.\n",
        "class Queue:\n",
        "   def __init__(self):\n",
        "      self.head = None\n",
        "      self.last = None\n",
        "      \n",
        "  # Create 'enqueue()' operation and pass 'self' and 'data' as parameters. \n",
        "   def enqueue(self, data):\n",
        "      if self.last is None:\n",
        "         self.head = Node(data)\n",
        "         self.last = self.head\n",
        "      else:\n",
        "         self.last.next = Node(data)\n",
        "         self.last = self.last.next\n",
        "\n",
        "   # Create 'dequeue()' operation and pass 'self' as parameter.\n",
        "   def dequeue(self):\n",
        "      if self.head is None:\n",
        "         return None\n",
        "      else:\n",
        "         to_return = self.head.data\n",
        "         self.head = self.head.next\n",
        "         return to_return"
      ],
      "execution_count": 26,
      "outputs": []
    },
    {
      "cell_type": "markdown",
      "metadata": {
        "id": "0kach0-4d_Ux"
      },
      "source": [
        "5. Create an object of `Queue` class and perform the following operations on the queue:\n",
        "  - Enqueue `1`.\n",
        "  - Enqueue `2`.\n",
        "  - Enqueue `3`.\n",
        "  - Enqueue `4`.\n",
        "  - Dequeue.\n",
        "  - Dequeue.\n",
        "  - Print the queue using `while` loop.\n",
        "\n",
        "\n",
        "\n"
      ]
    },
    {
      "cell_type": "code",
      "metadata": {
        "id": "n25LilZceYNs",
        "colab": {
          "base_uri": "https://localhost:8080/"
        },
        "outputId": "eb45e081-a342-4c30-e6b8-7d6b668d52f7"
      },
      "source": [
        "# S7.3: perform the above operations using the object of the 'Queue' class.\n",
        "# Enqueue 1, 2, 3, and 4.\n",
        "q=Queue()\n",
        "q.enqueue(1)\n",
        "q.enqueue(2)\n",
        "q.enqueue(3)\n",
        "q.enqueue(4)\n",
        "# Dequeue twice.\n",
        "q.dequeue()\n",
        "q.dequeue()\n",
        "# Print the queue.\n",
        "curr=q.head\n",
        "while(curr):\n",
        "    print(curr.data)\n",
        "    curr=curr.next"
      ],
      "execution_count": 30,
      "outputs": [
        {
          "output_type": "stream",
          "name": "stdout",
          "text": [
            "3\n",
            "4\n"
          ]
        }
      ]
    },
    {
      "cell_type": "markdown",
      "metadata": {
        "id": "y55P8RRaC7Kp"
      },
      "source": [
        "In this way, we can perform various operations on queues using a linked list.\n",
        "\n",
        "We will stop here. In the next class, we will learn about another data structure called Binary Search Tree."
      ]
    },
    {
      "cell_type": "markdown",
      "metadata": {
        "id": "Zyc8rP6tRWas"
      },
      "source": [
        "---"
      ]
    }
  ]
}