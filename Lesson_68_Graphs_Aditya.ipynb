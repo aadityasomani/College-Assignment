{
  "nbformat": 4,
  "nbformat_minor": 0,
  "metadata": {
    "colab": {
      "name": "Lesson 68 - Graphs - Aditya",
      "provenance": [],
      "collapsed_sections": [],
      "include_colab_link": true
    },
    "kernelspec": {
      "name": "python3",
      "display_name": "Python 3"
    }
  },
  "cells": [
    {
      "cell_type": "markdown",
      "metadata": {
        "id": "view-in-github",
        "colab_type": "text"
      },
      "source": [
        "<a href=\"https://colab.research.google.com/github/aadityasomani/College-Assignment/blob/main/Lesson_68_Graphs_Aditya.ipynb\" target=\"_parent\"><img src=\"https://colab.research.google.com/assets/colab-badge.svg\" alt=\"Open In Colab\"/></a>"
      ]
    },
    {
      "cell_type": "markdown",
      "metadata": {
        "id": "0Z7PqdeHdJol"
      },
      "source": [
        "# Lesson 68: Graphs\n"
      ]
    },
    {
      "cell_type": "markdown",
      "metadata": {
        "id": "u8yxawIEXEIj"
      },
      "source": [
        "---"
      ]
    },
    {
      "cell_type": "markdown",
      "metadata": {
        "id": "MicnOrfVdRHm"
      },
      "source": [
        "### Teacher-Student Tasks\n",
        "\n",
        "In this class, we will learn the basics of graphs and how to create a graph. We will also learn how the Dijkstras algorithm finds the shortest path between nodes in a network and write a Python script to illustrate the same."
      ]
    },
    {
      "cell_type": "markdown",
      "metadata": {
        "id": "WvOdkh2pdf4z"
      },
      "source": [
        "---"
      ]
    },
    {
      "cell_type": "markdown",
      "metadata": {
        "id": "Cqzkj1JUJ25J"
      },
      "source": [
        "#### Vertices and Edges\n",
        "\n",
        "\n",
        "A graph is a non-linear data structure consisting of **vertices** and **edges**. It is a pictorial representation of a set of objects where some objects are connected by links.\n",
        "\n",
        "**Definition:** A graph $G$ is an ordered pair of a non-empty set of vertices or nodes $V$ of vertices and a set of edges $E$.\n",
        "\n",
        "Mathematically, it is denoted as $G = (V, E)$.\n",
        "\n",
        "An edge joins two vertices and is represented by a set of vertices it connects.\n",
        "\n",
        "**Example:** Consider, a Graph is  $G = (V, E)$ where,\n",
        "            \n",
        "   - $V$ = $\\{{P, Q, R, S, T\\}}$ \n",
        "   - $E = {\\{{\\{P, Q\\}}, \\{{P, R}\\}, \\{{P, S}\\}, \\{{Q, R}\\}, \\{{Q, S}\\}, \\{{S, T}\\}, \\{{R, T}\\} }\\}$\n",
        "\n",
        "<img src=\"https://s3-whjr-v2-prod-bucket.whjr.online/78fcaa66-2a2a-4e84-9f10-a4350b4435fa.PNG\"/>\n",
        "\n",
        "$V$ is vertices and $P, Q, R, S, T$  are various vertex of the graph.\n",
        "\n",
        "$E$ represents edges and ${\\{{\\{P, Q\\}}, \\{{P, R}\\}, \\{{P, S}\\}, \\{{Q, R}\\}, \\{{Q, S}\\}, \\{{S, T}\\}, \\{{R, T}\\} }\\}$ are various edges of the graph.\n",
        "\n",
        "\n",
        "\n",
        "**Degree of a Vertex:** \n",
        "\n",
        "The degree of a vertex $V$ of a graph $G$ is the number of edges incident with the vertex $V$.\n",
        "\n",
        "<img src=\"https://s3-whjr-v2-prod-bucket.whjr.online/576ed279-708a-4705-8ec6-7117d966c108.PNG\"/>\n",
        "\n",
        "**Even and Odd Vertex:** \n",
        "\n",
        "If the degree of a vertex is even, the vertex is called an **even vertex**. If the degree of a vertex is odd, the vertex is called an **odd vertex**.\n",
        "\n",
        "**Degree of a Graph:** \n",
        "\n",
        "The degree of a graph is the **largest** vertex degree of that graph. \n",
        "For the above graph, the degree of the graph is 3.\n",
        "\n",
        "\n",
        "\n",
        "\n",
        "\n"
      ]
    },
    {
      "cell_type": "markdown",
      "metadata": {
        "id": "8CWFQPySHqSD"
      },
      "source": [
        "---"
      ]
    },
    {
      "cell_type": "markdown",
      "metadata": {
        "id": "YJTOiDqVxIPZ"
      },
      "source": [
        "#### Task 1: Implementing Graphs in Python\n",
        "\n",
        "A graph can be easily presented using the Python dictionary data types. We represent the vertices as the keys of the dictionary and the connection between the vertices also called edges as the values in the dictionary.\n",
        "\n",
        "**For example:**\n",
        "\n",
        " Consider the following graph:\n",
        "\n",
        " <img src=\"https://s3-whjr-v2-prod-bucket.whjr.online/b0cac52f-ee13-48aa-aaaa-e8799f478761.PNG\"/>\n",
        "\n",
        "In the above graph,\n",
        "- $V$ = $\\{{A, B, C, D, E\\}}$ \n",
        "- $E = {\\{{AB}, AC, BD}, DE, CD\\}$\n",
        "\n",
        "\n",
        "Let us create this graph and also print this graph:\n",
        "\n"
      ]
    },
    {
      "cell_type": "code",
      "metadata": {
        "id": "GWd-guyO1I7o",
        "colab": {
          "base_uri": "https://localhost:8080/"
        },
        "outputId": "fadf325e-7483-4bc3-e565-264d9f5ce6b0"
      },
      "source": [
        "# S1.1: Create the dictionary with graph elements\n",
        "test_graph={\"A\":[\"B\",\"C\"],\"B\":['A','D'],\"C\":['A','D'],'D':['B','C','E'],'E':['D']}\n",
        "# Print the graph \t\t \n",
        "print(test_graph)"
      ],
      "execution_count": 4,
      "outputs": [
        {
          "output_type": "stream",
          "name": "stdout",
          "text": [
            "{'A': ['B', 'C'], 'B': ['A', 'D'], 'C': ['A', 'D'], 'D': ['B', 'C', 'E'], 'E': ['D']}\n"
          ]
        }
      ]
    },
    {
      "cell_type": "markdown",
      "metadata": {
        "id": "UuxyVjpf1pxy"
      },
      "source": [
        "In the above code, we created a dictionary `test_graph` which represents a graph, and also printed the keys and values of this dictionary which represents the nodes and vertices of the graph.\n",
        "\n",
        "Let us create a function to display only graph vertices."
      ]
    },
    {
      "cell_type": "markdown",
      "metadata": {
        "id": "u3WofMyC2R9Q"
      },
      "source": [
        "---"
      ]
    },
    {
      "cell_type": "markdown",
      "metadata": {
        "id": "p9elRQxx2S_p"
      },
      "source": [
        "#### Task 2: Displaying Graph Vertices\n",
        "\n",
        "To display the graph vertices we will simply find the keys of the `test_graph` dictionary. For this, we will use the `keys()` function.\n",
        "\n",
        "Perform the steps given below to display graph vertices:\n",
        "1. Create a `graph` class whose constructor accepts a `self` parameter and an optional parameter  `gdict` dictionary. Inside the constructor, determine whether there exists any elements in `gdict` dictionary. \n",
        "  - If `gdict` is `None`, initialize `gdict`.\n",
        "  - Initialize `gdict` as `self.gdict = gdict`.\n",
        "\n",
        "2. Create a `get_vertices()` function which returns a list of `gdict` keys using `keys()` function.\n",
        "\n",
        "3. Create a `test_graph` dictionary as created in  Task 1.\n",
        "\n",
        "4. Create an object of `graph` class and call the `get_vertices()` function using the object of `graph` class. Pass the `test_graph` dictionary as input to the `get_vertices()` function and print the returned vertices.\n"
      ]
    },
    {
      "cell_type": "code",
      "metadata": {
        "id": "gAXHXnLk2sAi",
        "colab": {
          "base_uri": "https://localhost:8080/"
        },
        "outputId": "8d938139-577c-4e7d-c839-b43513c1e29a"
      },
      "source": [
        "# S2.1: Display graph vertices of 'graph_obj'.\n",
        "class Graph:\n",
        "    def __init__(self,gdict=None):\n",
        "        if gdict is None:\n",
        "            gdict=[]\n",
        "        self.gdict=gdict\n",
        "    # Get the keys of the dictionary.\n",
        "    def get_vertices(self):\n",
        "        return list(self.gdict.keys())\n",
        "# Create the dictionary with graph elements.\n",
        "obj=Graph(test_graph)\n",
        "obj.get_vertices()\n",
        "\n",
        "# Print the vertices by calling 'get_vertices()' function.\n"
      ],
      "execution_count": 5,
      "outputs": [
        {
          "output_type": "execute_result",
          "data": {
            "text/plain": [
              "['A', 'B', 'C', 'D', 'E']"
            ]
          },
          "metadata": {},
          "execution_count": 5
        }
      ]
    },
    {
      "cell_type": "markdown",
      "metadata": {
        "id": "y4mOX98Q6SAJ"
      },
      "source": [
        "In the above code, we obtained the vertices of the graph by using the `keys()` function of the Python dictionary."
      ]
    },
    {
      "cell_type": "markdown",
      "metadata": {
        "id": "E2s9nSUl6g3_"
      },
      "source": [
        "---"
      ]
    },
    {
      "cell_type": "markdown",
      "metadata": {
        "id": "NRIvWGK96hkG"
      },
      "source": [
        "#### Task 3: Displaying Graph Edges\n",
        "\n",
        "Finding the graph edges is a little tricker than the vertices as we have to find each of the pairs of vertices which have an edge in between them. \n",
        "\n",
        "So we create an empty list of edges then iterate through the edge values associated with each of the vertices. A list is formed containing the distinct group of edges found from the vertices.\n",
        "\n",
        "Follow the steps given below to display graph edges:\n",
        "\n",
        "1. Create a `graph` class and initialize its constructor in the same way as done in Task 2.\n",
        "\n",
        "2. Create a `get_edges()` function which accepts `self` as input. Inside this function, create an empty list `edgename`. Initialise a `for` loop which iterates through every `vertex` in `self.gdict`. Inside this `for` loop,\n",
        "  - Initialize another `for` loop which iterates through every vertex (`next_vertex`) in `self.gdict[vertex]`.\n",
        "  - Determine whether `{next_vertex, vertex}` already exists in `edgename` list within the nested `for` loop. This is done to avoid printing duplicate edges.\n",
        "  - If `{next_vertex, vertex}` does not exist in `edgename` list, append them to the `edgename` list.\n",
        "  - Return the `edgename` list.\n",
        "\n",
        "3. Create a `test_graph` dictionary as created in  Task 1.\n",
        "\n",
        "4. Create an object of `graph` class and call the `get_edges()` function using the object of the `graph` class. Pass the `test_graph` dictionary as input to the `get_edges()` function and print the returned edges.\n",
        " "
      ]
    },
    {
      "cell_type": "code",
      "metadata": {
        "id": "a9EZzqJE672l",
        "colab": {
          "base_uri": "https://localhost:8080/"
        },
        "outputId": "c55f0b7b-10d3-4874-dcc5-3b21d67542d5"
      },
      "source": [
        "\n",
        "class Graph:\n",
        "    def __init__(self,gdict=None):\n",
        "        if gdict is None:\n",
        "            gdict=[]\n",
        "        self.gdict=gdict\n",
        "    # Get the keys of the dictionary.\n",
        "    def get_vertices(self):\n",
        "        return list(self.gdict.keys())\n",
        "        # S3.1: Display graph edges\n",
        "    def get_edges(self):\n",
        "        edge_name=[]\n",
        "        for v in self.gdict:\n",
        "            for next_v in self.gdict[v]:\n",
        "                if {next_v,v} not in edge_name:\n",
        "                    edge_name.append({v,next_v})\n",
        "        return edge_name\n",
        "\n",
        " \n",
        "   \n",
        "\n",
        "# Create the dictionary with graph elements\n",
        "obj=Graph(test_graph)\n",
        "obj.get_edges()\n"
      ],
      "execution_count": 6,
      "outputs": [
        {
          "output_type": "execute_result",
          "data": {
            "text/plain": [
              "[{'A', 'B'}, {'A', 'C'}, {'B', 'D'}, {'C', 'D'}, {'D', 'E'}]"
            ]
          },
          "metadata": {},
          "execution_count": 6
        }
      ]
    },
    {
      "cell_type": "markdown",
      "metadata": {
        "id": "MdlXvtcH-Vs5"
      },
      "source": [
        "From the output, you may observe that only a distinct group of edges found from the vertices are printed."
      ]
    },
    {
      "cell_type": "markdown",
      "metadata": {
        "id": "lYrACIEi-pu2"
      },
      "source": [
        "---"
      ]
    },
    {
      "cell_type": "markdown",
      "metadata": {
        "id": "DsIaT7O7hBkM"
      },
      "source": [
        "#### Shortest Path Algorithm \n",
        "\n",
        "In the shortest path problem, we need to determine the shortest distance from a source to all other nodes or vertices in a\n",
        "graph. \n",
        "\n",
        "**Dijkstra's algorithm** is a very prominent method of solving this problem. This algorithm uses a greedy approach to solve the shortest path problem.\n",
        "\n",
        "It starts with the source node and finds the rest of the distances from the source node. Dijkstra’s algorithm keeps track of the currently known distance from the source node to the rest of the nodes and dynamically updates these values if a shorter path is found.\n",
        "\n",
        "A node is then marked as **visited** and added to the path if the distance between it and the source node is the shortest. This continues until all the nodes have been added to the path, and finally, we get the shortest path from the source node to all other nodes, which packets in a network can follow to their destination.\n",
        "\n",
        "\n",
        "\n",
        "Consider the following graph:\n",
        "\n",
        "<img src=\"https://s3-whjr-v2-prod-bucket.whjr.online/f1c63514-4715-4b5c-9f6b-9148448ca17c.PNG\"/>\n",
        "\n",
        "Initially, we have a list of distances. We mark the initial distances as **INF** (infinity) because we have not yet determined the actual distance except for node $0$, as the distance from node $0$ to itself is `0`.\n",
        "\n",
        "|NODE|DISTANCE|\n",
        "|-|-|\n",
        "|0|0|\n",
        "|1|INF|\n",
        "|2|INF|\n",
        "|3|INF|\n",
        "|4|INF|\n",
        "|5|INF|\n",
        "|6|INF|\n",
        "\n",
        "We also have a list to keep track of only the visited nodes, and since we have started with node $0$, we add it to the list.\n",
        "\n",
        "<img src=\"https://s3-whjr-v2-prod-bucket.whjr.online/46322aa3-bbd0-4705-8dc6-f2883ddfd295.PNG\"/>\n",
        "\n",
        "`visited = {0}`\n",
        "\n",
        "We check the distances 0 $\\rightarrow$ 1 and 0 $\\rightarrow$ 2, which are `2` and `6`, respectively. We first update the distances from nodes $1$ and $2$ in the table.\n",
        "\n",
        "<img src=\"https://s3-whjr-v2-prod-bucket.whjr.online/961e61d1-cf5e-41a3-a90a-f6e598433ac8.PNG\"/>\n",
        "\n",
        "**Note:** We denote a visited node by adding an asterisk beside it in the table and a red border around it on the graph.\n",
        "\n",
        "|NODE|DISTANCE|\n",
        "|-|-|\n",
        "|0|0|\n",
        "|1|2|\n",
        "|2|6|\n",
        "|3|INF|\n",
        "|4|INF|\n",
        "|5|INF|\n",
        "|6|INF|\n",
        "\n",
        "We then choose the shortest one, which is $0$ $\\rightarrow$ $1$, and mark node $1$ as visited and add it to the visited path list.\n",
        "\n",
        "<img src=\"https://s3-whjr-v2-prod-bucket.whjr.online/27116113-c8dc-4a63-96d1-6323668a4ac8.PNG\"/>\n",
        "\n",
        "`visited = {0, 1}`\n",
        "\n",
        "|NODE|DISTANCE|\n",
        "|-|-|\n",
        "|0|0|\n",
        "|1|2*|\n",
        "|2|6|\n",
        "|3|INF|\n",
        "|4|INF|\n",
        "|5|INF|\n",
        "|6|INF|\n",
        "\n",
        "Next, we check the nodes adjacent to the nodes added to the path (nodes $2$ and $3$). We then update our distance table with the distance from the source node to the new adjacent node, node $3$ (`2` + `5` = `7`).\n",
        "\n",
        "To choose what to add to the path, we select the node with the shortest currently known distance to the source node, which is $0$ $\\rightarrow$ $2$ with a distance `6`.\n",
        "\n",
        "<img src=\"https://s3-whjr-v2-prod-bucket.whjr.online/d17dd685-0967-476c-b05d-2e61f7d89fe8.PNG\"/>\n",
        "\n",
        "`visited = {0, 1, 2}`\n",
        "\n",
        "|NODE|DISTANCE|\n",
        "|-|-|\n",
        "|0|0|\n",
        "|1|2*|\n",
        "|2|6*|\n",
        "|3|7|\n",
        "|4|INF|\n",
        "|5|INF|\n",
        "|6|INF|\n",
        "\n",
        "Next, we have the distances $0$ $\\rightarrow$ $1$ $\\rightarrow$ $3$ (`2` + `5` = `7`) and $0$ $\\rightarrow$ $2$ $\\rightarrow$ $3$ (`6` + `8 `= `14`) in which `7` is the shorter distance, so we add node $3$ to the path and mark it as visited.\n",
        "\n",
        "<img src=\"https://s3-whjr-v2-prod-bucket.whjr.online/427f83d8-a1eb-4774-8107-5e704e51329d.PNG\"/>\n",
        "\n",
        "`visited = {0, 1, 2, 3}`\n",
        "\n",
        "|NODE|DISTANCE|\n",
        "|-|-|\n",
        "|0|0|\n",
        "|1|2*|\n",
        "|2|6*|\n",
        "|3|7*|\n",
        "|4|INF|\n",
        "|5|INF|\n",
        "|6|INF|\n",
        "\n",
        "We then check the next adjacent nodes (node $4$ and $5$) in which we have $0$ $\\rightarrow$ $1$ $\\rightarrow$ $3$ $\\rightarrow$ $4$ (`7` + `10` = `17`) for node $4$ and $0$ $\\rightarrow$ $1$ $\\rightarrow$ $3$ $\\rightarrow$ $5$ (`7` + `15` = `22`) for node $5$. We add node $4$.\n",
        "\n",
        "<img src=\"https://s3-whjr-v2-prod-bucket.whjr.online/cf262fb1-aee6-4811-b7a5-ec106c122ba8.PNG\"/>\n",
        "\n",
        "`visited = {0, 1, 2, 3, 4}`\n",
        "\n",
        "|NODE|DISTANCE|\n",
        "|-|-|\n",
        "|0|0|\n",
        "|1|2*|\n",
        "|2|6*|\n",
        "|3|7*|\n",
        "|4|17*|\n",
        "|5|22|\n",
        "|6|INF|\n",
        "\n",
        "In the same way, we check the adjacent nodes (nodes $5$ and $6$).\n",
        "\n",
        "Node $5$:\n",
        "\n",
        "- Option 1: $0$ $\\rightarrow$ $1$ $\\rightarrow$ $3$ $\\rightarrow$ $5$ (`7` + `15` = `22`)\n",
        "- Option 2: $0$ $\\rightarrow$ $1$ $\\rightarrow$ $3$ $\\rightarrow$ $4$ $\\rightarrow$ $5$ (`17` + `6` = `23`)\n",
        "- Option 3: $0$ $\\rightarrow$ $1$ $\\rightarrow$ $3$ $\\rightarrow$ $4$ $\\rightarrow$ $6$ $\\rightarrow$ $5$ (`17` + `2` + `6` = `25`)\n",
        "\n",
        "We choose `22`.\n",
        "\n",
        "Node 6:  $0$ $\\rightarrow$ $1$ $\\rightarrow$ $3$ $\\rightarrow$ $4$ $\\rightarrow$ $6$ (`17` + `2` = `19`)\n",
        "\n",
        "`visited = {0, 1, 2, 3, 4, 5, 6}`\n",
        "\n",
        "|NODE|DISTANCE|\n",
        "|-|-|\n",
        "|0|0|\n",
        "|1|2*|\n",
        "|2|6*|\n",
        "|3|7*|\n",
        "|4|17*|\n",
        "|5|22*|\n",
        "|6|19*|\n",
        "\n",
        "Hence, we have calculated the shortest path from node $0$ to every other node. Now let us implement this algorithm using Python.\n",
        "\n",
        "\n",
        "\n"
      ]
    },
    {
      "cell_type": "markdown",
      "metadata": {
        "id": "tCk9RO_cNNTo"
      },
      "source": [
        "---"
      ]
    },
    {
      "cell_type": "markdown",
      "metadata": {
        "id": "rxQGbDOQNOFP"
      },
      "source": [
        "#### Task 4: Implementing Shortest Path Algorithm\n",
        "\n",
        "Follow the steps given below to implement the shortest path algorithm:\n",
        "\n",
        "1. Create a `Graph` class. Add a constructor which accepts parameter `nodes` as input. Initialize the following variables inside the constructor:\n",
        "  - Distance array: `self.distArray = [0 for i in range(nodes)]`\n",
        "  - Visited nodes array: `self.visited = [0 for i in range(nodes)]`\n",
        "  - Number of nodes: `self.V = nodes`\n",
        "  - Infinity value: `self.INF = 1000000`\n",
        "  - Graph matrix: \n",
        "  ```python\n",
        "  self.graph = [[0 for column in range(nodes)]  \n",
        "        for row in range(nodes)]`\n",
        "  ```\n",
        " \n",
        "2. Create the `dijkstra()` function inside `Graph` class which takes a parameter, the source node (`srcNode`). \n",
        "  - Initialize each distance to infinity and visited status to `False`  and the initial distance from the source node to `0` using a `for` loop.\n",
        "\n",
        "  - Initiate another `for` loop which iterates through the number of nodes. Pick the node with the minimum distance from the set of nodes not yet processed and store it in variable `u` inside this `for` loop. Add the node with the minimum distance in the visited nodes set by setting the value to `True`. \n",
        "  \n",
        "  - Initiate a nested `for` loop within second `for` loop to update the distance of the node from current node `v`. Update `dist[v]` only if it is not in visited list array, `visited[]`, and if there is an edge from `u` to `v`, and the total distance of path from `srcNode` to `v` through `u` is less than the current value of `dist[v]`.\n",
        "\n",
        " - Call the `printSolution()` function to display the table after passing the distance array to the function.\n",
        " \n",
        "3. Create a `minDistance()` function to check for the nearest node in the `distArray` not included in the unvisited nodes in the array `visited[v]`. Return the node's index. This function must accept two arrays as parameters `distArray` and `visited[v]`.\n",
        "\n",
        "4. Create a `printSolution()` function to display the final results, which are the nodes and their respective tables stored in `distArray` array. Pass `distArray` as a parameter to this function.\n",
        "\n",
        "5. Create an object `ourGraph` of the `Graph` class and pass to it the number of nodes.\n",
        "\n",
        "6. Create the matrix to store the distances as follows: \n",
        "\n",
        "  ```python\n",
        "  ourGraph.graph = [[0, 2, 6, 0, 0, 0, 0], \n",
        "        [2, 0, 0, 5, 0, 0, 0], \n",
        "        [6, 6, 0, 8, 0, 0, 0], \n",
        "        [0, 0, 8, 0, 10, 15, 0], \n",
        "        [0, 0, 0, 10, 0, 6, 2], \n",
        "        [0, 0, 0, 15, 6, 0, 6], \n",
        "        [0, 0, 0, 0, 2, 6, 0],\n",
        "        ]; \n",
        "\n",
        "  ```\n",
        "\n",
        "  The matrix is the same as the table shown below:\n",
        "<img src=\"https://s3-whjr-v2-prod-bucket.whjr.online/10028db3-3add-4cbe-b9a2-4590b112b730.PNG\" height= 250/>\n",
        "\n",
        "\n",
        "  The topmost row and most left column represent the nodes. We read a node from the left column and check its distance with the topmost row. The intersection shows the distance. The distance is 0 if the nodes are not adjacent.\n",
        "\n",
        "  For example:\n",
        "\n",
        "  - The distance of 0 from 0 is 0.\n",
        "  - The distance of 5 from 3 is 15.\n",
        "\n",
        "7. Call the `dijkstra()` function and pass the source node. Display the results."
      ]
    },
    {
      "cell_type": "code",
      "metadata": {
        "id": "4tkWTCtCDBH2",
        "colab": {
          "base_uri": "https://localhost:8080/"
        },
        "outputId": "9b699ccc-ba55-48af-acfa-c1398a9236ba"
      },
      "source": [
        "# S4.1: Implementing Dijkstra algorithm\n",
        "# S4.1: Implementing Dijkstra algorithm\n",
        "class Graph: \n",
        "    # A constructor to iniitialize the values\n",
        "    def __init__(self, nodes):\n",
        "        # distance array initialization\n",
        "        self.distance_array = [0 for i in range(nodes)]\n",
        "        #visited nodes initialization\n",
        "        self.visited = [0 for i in range(nodes)]\n",
        "        #initializing the number of nodes\n",
        "        self.V = nodes\n",
        "        #initializing the infinity value\n",
        "        self.INF = 1000000\n",
        "        #initializing the graph matrix\n",
        "        self.graph = [[0 for column in range(nodes)]  \n",
        "                    for row in range(nodes)]\n",
        "   \n",
        "    def dijkstra(self, srcNode):\n",
        "        for i in range(self.V):\n",
        "          #initialise the distances to infinity first\n",
        "          self.distance_array[i] = self.INF\n",
        "          #set the visited nodes set to false for each node\n",
        "          self.visited[i] = False\n",
        "        #initialise the first distance to 0\n",
        "        self.distance_array[srcNode] = 0\n",
        "        for i in range(self.V): \n",
        "  \n",
        "            # Pick the minimum distance node from  \n",
        "            # the set of nodes not yet processed.  \n",
        "            # u is always equal to srcNode in first iteration \n",
        "            u = self.minDistance(self.distance_array, self.visited) \n",
        "  \n",
        "            # Put the minimum distance node in the  \n",
        "            # visited nodes set\n",
        "            self.visited[u] = True\n",
        "  \n",
        "             # Update dist[v] only if is not in visited, there is an edge from \n",
        "            # u to v, and total weight of path from src to  v through u is \n",
        "            # smaller than current value of dist[v]\n",
        "            for v in range(self.V): \n",
        "                if self.graph[u][v] > 0 and self.visited[v] == False and self.distance_array[v] > self.distance_array[u] + self.graph[u][v]: \n",
        "                        self.distance_array[v] = self.distance_array[u] + self.graph[u][v] \n",
        "  \n",
        "        self.printSolution(self.distance_array, srcNode)\n",
        "\n",
        "    #A utility function to find the node with minimum distance value, from \n",
        "    # the set of nodes not yet included in shortest path tree \n",
        "    def minDistance(self, distance_array, visited): \n",
        "  \n",
        "        # Initilaize minimum distance for next node\n",
        "        min = self.INF\n",
        "  \n",
        "        # Search not nearest node not in the  \n",
        "        # unvisited nodes\n",
        "        for v in range(self.V): \n",
        "            if distance_array[v] < min and visited[v] == False: \n",
        "                min = distance_array[v] \n",
        "                min_index = v \n",
        "  \n",
        "        return min_index\n",
        "\n",
        "    def printSolution(self, distance_array, srcNode): \n",
        "        print (\"Node \\tDistance from \", srcNode)\n",
        "        for i in range(self.V): \n",
        "            print (i, \"\\t\", distance_array[i])\n",
        "\n",
        "# Display our table\n",
        "ourGraph = Graph(7) \n",
        "ourGraph.graph = [[0, 2, 6, 0, 0, 0, 0], \n",
        "        [2, 0, 0, 5, 0, 0, 0], \n",
        "        [6, 6, 0, 8, 0, 0, 0], \n",
        "        [0, 0, 8, 0, 10, 15, 0], \n",
        "        [0, 0, 0, 10, 0, 6, 2], \n",
        "        [0, 0, 0, 15, 6, 0, 6], \n",
        "        [0, 0, 0, 0, 2, 6, 0],\n",
        "        ]; \n",
        "  \n",
        "ourGraph.dijkstra(0)\n",
        "    \n",
        "# Display our table\n"
      ],
      "execution_count": 8,
      "outputs": [
        {
          "output_type": "stream",
          "name": "stdout",
          "text": [
            "Node \tDistance from  0\n",
            "0 \t 0\n",
            "1 \t 2\n",
            "2 \t 6\n",
            "3 \t 7\n",
            "4 \t 17\n",
            "5 \t 22\n",
            "6 \t 19\n"
          ]
        }
      ]
    },
    {
      "cell_type": "markdown",
      "metadata": {
        "id": "LmF9iiDtO6Pp"
      },
      "source": [
        "Using the above code, we can calculate the shortest path for any of the source nodes to all other nodes.\n",
        "\n",
        "In the next class, we will learn to implement the stacks, queues, linked lists, trees, and graphs methods using standard libraries."
      ]
    },
    {
      "cell_type": "markdown",
      "metadata": {
        "id": "E79h33COmBIU"
      },
      "source": [
        "---"
      ]
    }
  ]
}